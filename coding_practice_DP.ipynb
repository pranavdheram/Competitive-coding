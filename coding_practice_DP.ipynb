{
 "cells": [
  {
   "cell_type": "markdown",
   "metadata": {},
   "source": [
    "                                    #### Coding Practice - Dynamic Programming"
   ]
  },
  {
   "cell_type": "code",
   "execution_count": 1,
   "metadata": {
    "collapsed": true
   },
   "outputs": [],
   "source": [
    "# package for counter\n",
    "from collections import Counter\n",
    "\n",
    "# basic stuff\n",
    "import numpy as np\n",
    "import scipy as sp\n",
    "import pandas as pd\n",
    "import seaborn\n",
    "import matplotlib.pyplot as plt"
   ]
  },
  {
   "cell_type": "markdown",
   "metadata": {},
   "source": [
    "Problem-1"
   ]
  },
  {
   "cell_type": "code",
   "execution_count": null,
   "metadata": {
    "collapsed": true
   },
   "outputs": [],
   "source": [
    "# generate number of derangements possible modulo 10^9+7 for T test cases\n",
    "# derangement is a permutation where none of the elements occupy their corresponding spots\n",
    "\n",
    "# solution\n",
    "# the first number can occupy any of the n-1 spots except its own\n",
    "# the options remaning to the 2nd number depend on the spot occupied by the first:\n",
    "# case 1: if first number occupies the second spot, we need to solve derange(n-1)\n",
    "# case 2: if first number occupies any spot other than 2, we need to solve derange(n-2)\n",
    "# so derange(n) = (n-1)*(derange(n-1) + derange(n-2))\n",
    "\n",
    "t = input()\n",
    "mod = pow(10,9)+7\n",
    "derange = [0]*(100001)\n",
    "derange[1] = 0\n",
    "derange[2] = 1\n",
    "for i in range(3,100001):\n",
    "    derange[i] = ((i-1)*(derange[i-1] + derange[i-2]))%mod\n",
    "for i in range(t):\n",
    "    n = input()\n",
    "    print(derange[n])"
   ]
  },
  {
   "cell_type": "markdown",
   "metadata": {},
   "source": [
    "Problem-2"
   ]
  },
  {
   "cell_type": "code",
   "execution_count": null,
   "metadata": {
    "collapsed": true
   },
   "outputs": [],
   "source": [
    "# you are climbing a stair case. It takes n steps to reach to the top.\n",
    "# each time you can either climb 1, 2 or 3 steps. In how many distinct ways can you climb to the top?\n",
    "n = input()\n",
    "steps = [0]*(n+1)\n",
    "steps[0] = 1\n",
    "steps[1] = 1\n",
    "steps[2] = 2\n",
    "for i in range(3,n+1):\n",
    "    steps[i] = steps[i-1] + steps[i-2] + steps[i-3]\n",
    "print(steps[n])"
   ]
  },
  {
   "cell_type": "markdown",
   "metadata": {},
   "source": [
    "Problem-3"
   ]
  },
  {
   "cell_type": "code",
   "execution_count": null,
   "metadata": {
    "collapsed": true
   },
   "outputs": [],
   "source": [
    "# count possible path from top left to bottom right of matrix\n",
    "# moves possible: right and down\n",
    "# the matrix also has obstacles represented by 1\n",
    "\n",
    "# dp idea: count(r,c) = count(r-1,c) + count(r,c-1)\n",
    "def init_grid():\n",
    "    n,m = map(int,raw_input().split())\n",
    "    grid = np.zeros((n,m))\n",
    "    for i in range(n):\n",
    "        grid[i] = map(int,raw_input().split())\n",
    "    \n",
    "    return n,m,grid\n",
    "\n",
    "r,c,grid = init_grid()\n",
    "dp_count = np.zeros((r,c))\n",
    "\n",
    "for i in range(r):\n",
    "    if(grid[i,0]==0):\n",
    "        dp_count[i,0]=1\n",
    "    else:\n",
    "        break\n",
    "        \n",
    "for i in range(c):\n",
    "    if(grid[0,i]==0):\n",
    "        dp_count[0,i]=1\n",
    "    else:\n",
    "        break\n",
    "\n",
    "for i in range(1,r):\n",
    "    for j in range(1,c):\n",
    "        if(grid[i,j]==1):\n",
    "            continue\n",
    "        dp_count[i,j] = dp_count[i-1,j] + dp_count[i,j-1]\n",
    "\n",
    "print(dp_count[r-1,c-1])"
   ]
  },
  {
   "cell_type": "markdown",
   "metadata": {},
   "source": [
    "Problem-4"
   ]
  },
  {
   "cell_type": "code",
   "execution_count": null,
   "metadata": {
    "collapsed": true
   },
   "outputs": [],
   "source": [
    "# in the above problem, print all the possible paths\n",
    "\n",
    "def init_grid():\n",
    "    n,m = map(int,raw_input().split())\n",
    "    grid = np.zeros((n,m))\n",
    "    for i in range(n):\n",
    "        grid[i] = map(int,raw_input().split())\n",
    "    \n",
    "    return n,m,grid\n",
    "\n",
    "def get_path(grid,r,c,path,paths):\n",
    "    # if we have reached the starting point, path exists so we return true\n",
    "    if(r==0 and c==0):\n",
    "        path.append([r,c])\n",
    "        paths.append(path)\n",
    "        return path,paths,True\n",
    "    \n",
    "    # if a path doesn't exist from the current cell or the current cell is invalid, return false\n",
    "    if(r<0 or c<0 or grid[r,c]==0):\n",
    "        return path,paths,False\n",
    "    \n",
    "    # if path exists, \n",
    "        \n",
    "        \n",
    "        \n",
    "r,c,grid = init_grid()\n",
    "paths = []\n",
    "path = []\n",
    "\n",
    "path,paths,success = get_path(grid,r-1,c-1,path,paths)\n",
    "if(success):\n",
    "    print(paths)\n",
    "else:\n",
    "    print(\"Path doesn't exist!\")\n"
   ]
  },
  {
   "cell_type": "markdown",
   "metadata": {},
   "source": [
    "Problem-5"
   ]
  },
  {
   "cell_type": "code",
   "execution_count": 68,
   "metadata": {},
   "outputs": [
    {
     "name": "stdout",
     "output_type": "stream",
     "text": [
      "60\n",
      "73\n"
     ]
    }
   ],
   "source": [
    "# given a list of denominations and a sum, n count the number of possible ways of making this sum using the denominations\n",
    "# space complexity O(N*K)\n",
    "n = input()\n",
    "dp_coins = [0]*(n+1)\n",
    "denominations = [1,5,10,25]\n",
    "k = len(denominations)\n",
    "# we can use a matrix and make our lifes easier instead of using a list of lists\n",
    "dp_coins = [[0]*(k+1) for i in range(n+1)]\n",
    "dp_coins[0]=[1]*(k+1)\n",
    "for i in range(1,n+1):\n",
    "    for j in range(1,k+1):\n",
    "        dp_coins[i][j] = dp_coins[i][j-1] + (0 if (i<denominations[j-1]) else dp_coins[i-denominations[j-1]][j])\n",
    "print(dp_coins[-1][-1])"
   ]
  },
  {
   "cell_type": "markdown",
   "metadata": {},
   "source": [
    "Problem-6"
   ]
  },
  {
   "cell_type": "code",
   "execution_count": null,
   "metadata": {
    "collapsed": true
   },
   "outputs": [],
   "source": [
    "# same problem as above but with space complexity = O(N)\n",
    "n = input()\n",
    "dp_coins = [0]*(n+1)\n",
    "denominations = [1,5,10,25]\n",
    "k = len(denominations)\n",
    "\n",
    "dp_coins = [0]*(n+1)\n",
    "dp_coins[0]= 1\n",
    "for i in range(0,k):\n",
    "    for j in range(denominations[i],n+1):\n",
    "        dp_coins[j] = dp_coins[j] + dp_coins[j-A[i]]\n",
    "print(dp_coins[-1])"
   ]
  },
  {
   "cell_type": "markdown",
   "metadata": {},
   "source": [
    "Problem-7"
   ]
  },
  {
   "cell_type": "code",
   "execution_count": 16,
   "metadata": {},
   "outputs": [
    {
     "name": "stdout",
     "output_type": "stream",
     "text": [
      "10\n",
      "4855659 3202974 2026657 7571456 6228857 6746864 2569198 6301455 9239843 9939461\n",
      "[6746864, 2569198, 6301455, 9239843, 9939461]\n",
      "8939461\n"
     ]
    }
   ],
   "source": [
    "# given an array of stock prices, determine when to buy and when to sell: only one buy and sell are allowed\n",
    "n = input()\n",
    "prices = [0]*n\n",
    "prices = map(int,raw_input().split())\n",
    "\n",
    "max_diff = -1\n",
    "min = 1000000000\n",
    "\n",
    "for i in range(n):\n",
    "    if(prices[i]<min):\n",
    "        min = prices[i]\n",
    "        min_idx = i\n",
    "        continue\n",
    "    if((prices[i]-min)>max_diff):\n",
    "        max_diff = prices[i]-min\n",
    "        sell = prices[i]\n",
    "        sell_idx=i\n",
    "        buy_idx = min_idx\n",
    "        buy = min\n",
    "\n",
    "print(prices[buy_idx:sell_idx+1])\n",
    "print(sell - buy)"
   ]
  },
  {
   "cell_type": "markdown",
   "metadata": {},
   "source": [
    "Problem-8"
   ]
  },
  {
   "cell_type": "code",
   "execution_count": null,
   "metadata": {
    "scrolled": false
   },
   "outputs": [],
   "source": [
    "# given an array of stock prices, determine when to buy and when to sell: only one buy and sell are allowed\n",
    "def findMaxSub(arr):\n",
    "    max_so_far = arr[0]\n",
    "    curr_max = arr[0]\n",
    "    buy_idx = 0\n",
    "    buy = 0\n",
    "    sell = 0\n",
    "    for i in range(1,len(arr)):\n",
    "        if(arr[i]>arr[i]+curr_max):\n",
    "            buy_idx = i\n",
    "            curr_max = arr[i]\n",
    "        else:\n",
    "            curr_max = curr_max+arr[i]\n",
    "        \n",
    "        if(curr_max>max_so_far):\n",
    "            max_so_far = curr_max\n",
    "            buy = buy_idx\n",
    "            sell = i\n",
    "    \n",
    "    return buy,sell\n",
    "\n",
    "n = input()\n",
    "prices = [0]*n\n",
    "prices = map(int,raw_input().split())\n",
    "\n",
    "diff = [(prices[i]-prices[i-1]) for i in range(1,len(prices))]\n",
    "buy_idx,sell_idx = findMaxSub(diff)\n",
    "print(prices[buy_idx:sell_idx+2])\n",
    "print(prices[sell_idx+1]-prices[buy_idx])"
   ]
  },
  {
   "cell_type": "markdown",
   "metadata": {},
   "source": [
    "Problem-9"
   ]
  },
  {
   "cell_type": "code",
   "execution_count": 30,
   "metadata": {
    "scrolled": true
   },
   "outputs": [
    {
     "name": "stdout",
     "output_type": "stream",
     "text": [
      "6\n",
      "1 4 3 10 7 19\n",
      "22\n"
     ]
    }
   ],
   "source": [
    "# given an array of stock prices, determine when to buy and when to sell: infinite transactions are allowed\n",
    "\n",
    "n = input()\n",
    "prices = [0]*n\n",
    "prices = map(int,raw_input().split())\n",
    "\n",
    "max_profit = 0\n",
    "i = 0\n",
    "while(i<n-1):\n",
    "    while(i<n-1 and prices[i+1]<=prices[i]):\n",
    "        i+=1\n",
    "    if(i==n-1):\n",
    "        break\n",
    "    buy = prices[i]\n",
    "    while(i<n-1 and prices[i+1]>=prices[i]):\n",
    "        i+=1\n",
    "    max_profit+=(prices[i]-buy)\n",
    "    if(i==n-1):        \n",
    "        break\n",
    "print(max_profit)"
   ]
  },
  {
   "cell_type": "markdown",
   "metadata": {},
   "source": [
    "Problem-10"
   ]
  },
  {
   "cell_type": "code",
   "execution_count": null,
   "metadata": {
    "collapsed": true
   },
   "outputs": [],
   "source": [
    "# given an array of stock prices, determine when to buy and when to sell: maximum of k transactions are allowed\n",
    "\n",
    "n,k = map(int,raw_input().split())\n",
    "prices = [0]*n\n",
    "prices = map(int,raw_input().split())\n",
    "\n",
    "# the idea is to use a 2D DP where profits[i][j] represents the max profit obtained from a maximum of i transactions are\n",
    "# allowed over a period of j days\n",
    "\n",
    "# so we can either make a transaction on the day j or we can choose not to make a transaction\n",
    "\n",
    "# if we do not make a transaction on day j, the profits we get are same as profits[i][j-1]\n",
    "# if we sell a stock on day j, we must have bought the stock on one of [0,j-1]\n",
    "# so the profit we make would be prices[j] - prices[k], where k = [0,j-1] + Z\n",
    "# Z = profit[i-1][k] is the maximum profit made before the ith transaction\n",
    "\n",
    "profits = np.zeros((k+1,n+1))\n",
    "# the array takes care of 2 corner cases, k=0 and n=0\n",
    "\n",
    "for i in range(1,k+1):\n",
    "    max_sub = 0\n",
    "    for j in range(1,n+1):\n",
    "        for z in range(1,j):\n",
    "            max_sub = max(max_sub,profits[i-1][z]-prices[z])\n",
    "            profits[i][j] = max(profits[i][j-1],prices[j]+max_sub)"
   ]
  },
  {
   "cell_type": "markdown",
   "metadata": {},
   "source": [
    "Problem-11"
   ]
  },
  {
   "cell_type": "code",
   "execution_count": null,
   "metadata": {},
   "outputs": [],
   "source": [
    "# Longest Common Substring\n",
    "s1 = raw_input()\n",
    "s2 = raw_input()\n",
    "\n",
    "n = len(s1)\n",
    "m = len(s2)\n",
    "\n",
    "lcs = [[0]*(m+1) for i in range(n+1)]\n",
    "max_len = 0\n",
    "longest_string = ''\n",
    "\n",
    "for i in range(1,n+1):\n",
    "    for j in range(1,m+1):\n",
    "        if(s1[i-1]==s2[j-1]):\n",
    "            lcs[i][j] = lcs[i-1][j-1] + 1\n",
    "            if(lcs[i][j]>max_len):\n",
    "                max_len = lcs[i][j]\n",
    "                row = i\n",
    "                column = j\n",
    "\n",
    "while(lcs[row][column]!=0):\n",
    "    longest_string += s1[row-1]\n",
    "    row-=1\n",
    "    column-=1\n",
    "    \n",
    "print(max_len)\n",
    "longest_string = longest_string[::-1]\n",
    "print(longest_string)\n"
   ]
  },
  {
   "cell_type": "markdown",
   "metadata": {},
   "source": [
    "Problem-12"
   ]
  },
  {
   "cell_type": "code",
   "execution_count": 110,
   "metadata": {},
   "outputs": [
    {
     "name": "stdout",
     "output_type": "stream",
     "text": [
      "racecar\n",
      "racecar\n"
     ]
    }
   ],
   "source": [
    "# Longest palindromic substring\n",
    "s = raw_input()\n",
    "n = len(s)\n",
    "\n",
    "pal = [[0]*(n) for i in range(n)]\n",
    "max_len = 1\n",
    "longest_string = s[0]\n",
    "# all characters are palindromes in themselves\n",
    "for i in range(n):\n",
    "    pal[i][i] = 1\n",
    "\n",
    "# check the 2-characters-long palindromes\n",
    "for i in range(n-1):\n",
    "    if(s[i]==s[i+1]):\n",
    "        max_len = 2\n",
    "        pal[i][i+1] = 1\n",
    "        longest_string = s[i:i+2]\n",
    "\n",
    "k = 3\n",
    "while(k<=n):\n",
    "    start = 0\n",
    "    while(start<n-k+1):\n",
    "        end =  start + k -1\n",
    "        if(s[start]==s[end] and pal[start+1][end-1]):\n",
    "            pal[start][end] = 1\n",
    "            max_len = k\n",
    "            longest_string = s[start:end+1]\n",
    "        start+=1\n",
    "    k+=1\n",
    "\n",
    "print(longest_string)\n"
   ]
  },
  {
   "cell_type": "code",
   "execution_count": null,
   "metadata": {
    "collapsed": true
   },
   "outputs": [],
   "source": []
  },
  {
   "cell_type": "code",
   "execution_count": 111,
   "metadata": {},
   "outputs": [
    {
     "data": {
      "text/plain": [
       "'10'"
      ]
     },
     "execution_count": 111,
     "metadata": {},
     "output_type": "execute_result"
    }
   ],
   "source": [
    "dummy = 10\n",
    "str(dummy)"
   ]
  },
  {
   "cell_type": "code",
   "execution_count": null,
   "metadata": {
    "collapsed": true
   },
   "outputs": [],
   "source": []
  }
 ],
 "metadata": {
  "kernelspec": {
   "display_name": "Python 2",
   "language": "python",
   "name": "python2"
  },
  "language_info": {
   "codemirror_mode": {
    "name": "ipython",
    "version": 2
   },
   "file_extension": ".py",
   "mimetype": "text/x-python",
   "name": "python",
   "nbconvert_exporter": "python",
   "pygments_lexer": "ipython2",
   "version": "2.7.13"
  }
 },
 "nbformat": 4,
 "nbformat_minor": 2
}
