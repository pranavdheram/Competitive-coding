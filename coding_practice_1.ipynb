{
 "cells": [
  {
   "cell_type": "markdown",
   "metadata": {},
   "source": [
    "                                #### Coding Practice - Arrays and String"
   ]
  },
  {
   "cell_type": "code",
   "execution_count": 29,
   "metadata": {
    "collapsed": true
   },
   "outputs": [],
   "source": [
    "# for creating word embeddings\n",
    "import gensim\n",
    "import gensim.models.word2vec as w2v"
   ]
  },
  {
   "cell_type": "code",
   "execution_count": 49,
   "metadata": {
    "collapsed": true
   },
   "outputs": [],
   "source": [
    "from gensim import corpora, models, similarities"
   ]
  },
  {
   "cell_type": "code",
   "execution_count": 30,
   "metadata": {
    "collapsed": true
   },
   "outputs": [],
   "source": [
    "# for system level stuff\n",
    "import codecs\n",
    "import glob\n",
    "import multiprocessing\n",
    "import os\n",
    "import re\n",
    "import sys\n",
    "# natural language toolkit\n",
    "import nltk"
   ]
  },
  {
   "cell_type": "code",
   "execution_count": 31,
   "metadata": {
    "collapsed": true
   },
   "outputs": [],
   "source": [
    "# bridge between python 3 and python 2\n",
    "from __future__ import absolute_import, division, print_function"
   ]
  },
  {
   "cell_type": "code",
   "execution_count": 32,
   "metadata": {
    "collapsed": true
   },
   "outputs": [],
   "source": [
    "# for dimensionality reduction\n",
    "import sklearn.manifold"
   ]
  },
  {
   "cell_type": "code",
   "execution_count": 23,
   "metadata": {
    "collapsed": true
   },
   "outputs": [],
   "source": [
    "# package for counter\n",
    "from collections import Counter\n",
    "\n",
    "# basic stuff\n",
    "import numpy as np\n",
    "import scipy as sp\n",
    "import pandas as pd\n",
    "import seaborn\n",
    "import matplotlib.pyplot as plt"
   ]
  },
  {
   "cell_type": "markdown",
   "metadata": {},
   "source": [
    "Problem-1"
   ]
  },
  {
   "cell_type": "code",
   "execution_count": null,
   "metadata": {
    "collapsed": true
   },
   "outputs": [],
   "source": [
    "# Minimum Steps needed to go from point A to point B with 8 valid moves\n",
    "n = input()\n",
    "A = [0]*n\n",
    "B = [0]*n\n",
    "for i in range(n):\n",
    "    A[i] = input()\n",
    "for i in range(n):\n",
    "    B[i] = input()\n",
    "numSteps = 0\n",
    "for i in range(1,len(A)):\n",
    "    dispX = abs(A[i]-A[i-1])\n",
    "    dispY = abs(B[i]-B[i-1])\n",
    "    numSteps+=max(dispX,dispY)"
   ]
  },
  {
   "cell_type": "markdown",
   "metadata": {},
   "source": [
    "Problem-2"
   ]
  },
  {
   "cell_type": "code",
   "execution_count": null,
   "metadata": {
    "collapsed": true
   },
   "outputs": [],
   "source": [
    "# You are given a read only array of n integers from 1 to n. Each integer appears exactly once except A which appears twice and B which is missing.\n",
    "# find repeated and missings numbers\n",
    "class Solution:\n",
    "\n",
    "    # @param A : tuple of integers\n",
    "    # @return a list of integers\n",
    "    def repeatedNumber(self, A):\n",
    "        n=len(A)\n",
    "        x=sum(range(1,n+1))-sum(A)\n",
    "        y=sum([i**2 for i in range(1,n+1)])-sum([i**2 for i in A])\n",
    "        b=((x**2) + y)//(2*x)\n",
    "        a=(y-(x**2))//(2*x)\n",
    "        return a,b"
   ]
  },
  {
   "cell_type": "markdown",
   "metadata": {},
   "source": [
    "Problem-3"
   ]
  },
  {
   "cell_type": "code",
   "execution_count": 2,
   "metadata": {
    "scrolled": true
   },
   "outputs": [
    {
     "name": "stdout",
     "output_type": "stream",
     "text": [
      "5\n",
      "4\n",
      "-2\n",
      "-3\n",
      "5\n",
      "1\n",
      "('maximum sum:', 6)\n",
      "('subarray:', [3, 4])\n"
     ]
    }
   ],
   "source": [
    " # find subarray with maximum sum - kadane's algorithm\n",
    "n = input()\n",
    "arr = [0]*n\n",
    "for i in range(n):\n",
    "    arr[i] = input()\n",
    "\n",
    "temp_start = 0\n",
    "temp_end = 0\n",
    "final_start = 0\n",
    "final_end = 0\n",
    "max_so_far = arr[0]\n",
    "current_max = arr[0]\n",
    "\n",
    "for i in range(1,n):\n",
    "    if(current_max+arr[i]>arr[i]):\n",
    "        temp_end = i\n",
    "        current_max = current_max+arr[i]\n",
    "    else:\n",
    "        temp_start = i\n",
    "        temp_end = i\n",
    "        current_max = arr[i]\n",
    "        \n",
    "    if(current_max>max_so_far):\n",
    "        max_so_far = current_max\n",
    "        final_start = temp_start\n",
    "        final_end = temp_end\n",
    "\n",
    "print(\"maximum sum:\", max_so_far)\n",
    "print(\"subarray:\",[final_start,final_end])"
   ]
  },
  {
   "cell_type": "markdown",
   "metadata": {},
   "source": [
    "Problem-4"
   ]
  },
  {
   "cell_type": "code",
   "execution_count": null,
   "metadata": {
    "collapsed": true
   },
   "outputs": [],
   "source": [
    "# check if one string is a permutation of another\n",
    "str1 = raw_input()\n",
    "str2 = raw_input()\n",
    "# if the characters and the count of each character in both the strings are same, then they are permutations\n",
    "if(Counter(str1)==Counter(str2)):\n",
    "    print('Yes!')\n",
    "else:\n",
    "    print('No!')"
   ]
  },
  {
   "cell_type": "markdown",
   "metadata": {},
   "source": [
    "Problem-5"
   ]
  },
  {
   "cell_type": "code",
   "execution_count": null,
   "metadata": {
    "collapsed": true,
    "scrolled": true
   },
   "outputs": [],
   "source": [
    "# find the maximum non-negative sub-array\n",
    "def findPositive(arr):\n",
    "    positive_subs = []\n",
    "    flag = 0\n",
    "    for i in range(len(arr)):\n",
    "        if(flag==0 and arr[i]>=0):\n",
    "            start_idx = i\n",
    "            flag=1\n",
    "        if(flag==1 and arr[i]<0):\n",
    "            end_idx = i-1\n",
    "            flag = 0\n",
    "            positive_subs.append([start_idx,end_idx])\n",
    "    # accommodate the case where we have a positive subarray at the end\n",
    "    if(flag==1):\n",
    "        positive_subs.append([start_idx,len(arr)-1])\n",
    "    return positive_subs\n",
    "\n",
    "n = input()\n",
    "arr = [0]*n\n",
    "for i in range(n):\n",
    "    arr[i] = input()\n",
    "\n",
    "# find the starting and ending indexes of all positive subarrays\n",
    "positive_subs = findPositive(arr)\n",
    "if(len(positive_subs)==0):\n",
    "    print(\"found nothing!\")\n",
    "\n",
    "# check the sum of each of the positive subarrays and return the one with maximum value \n",
    "max_sum = -1\n",
    "max_size = 0\n",
    "for sub in positive_subs:\n",
    "    a = sub[0]\n",
    "    b = sub[1]\n",
    "    temp_sum = sum(arr[a:b+1])\n",
    "    if(temp_sum>max_sum):\n",
    "        max_sum = temp_sum\n",
    "        max_array = sub\n",
    "        max_size = b-a+1\n",
    "    elif(temp_sum==max_sum):\n",
    "        if((b-a+1)>max_size):\n",
    "            max_array = sub\n",
    "            max_size = b-a+1\n",
    "\n",
    "print(arr[max_array[0]:max_array[1]+1])\n",
    "            "
   ]
  },
  {
   "cell_type": "markdown",
   "metadata": {},
   "source": [
    "Problem-6"
   ]
  },
  {
   "cell_type": "code",
   "execution_count": null,
   "metadata": {
    "collapsed": true,
    "scrolled": true
   },
   "outputs": [],
   "source": [
    "# given an NXM matrix, if an element is 0, convert the rows and columns corresponding to it to 0\n",
    "def getInput():\n",
    "    n = input()\n",
    "    m = input()\n",
    "    arr = np.zeros((n,m))\n",
    "    for i in range(n):\n",
    "        for j in range(m):\n",
    "            arr[i,j] = input()\n",
    "    \n",
    "    return arr,n,m\n",
    "\n",
    "arr,n,m = getInput()\n",
    "print(arr)\n",
    "# check if the first row and first column have any zeros\n",
    "if(0 in arr[0,:]):\n",
    "    firstRow = True\n",
    "else:\n",
    "    firstRow = False\n",
    "\n",
    "if(0 in arr[:,0]):\n",
    "    firstCol = True\n",
    "else:\n",
    "    firstCol = False\n",
    "\n",
    "# parse matrix and record which rows and columns need to be nullified\n",
    "for i in range(1,n):\n",
    "    for j in range(1,m):\n",
    "        if(arr[i,j]==0):\n",
    "            arr[i,0]=0\n",
    "            arr[0,j]=0\n",
    "\n",
    "for i in range(n):\n",
    "    if(arr[i,0]==0):\n",
    "        arr[i] = 0\n",
    "for i in range(m):\n",
    "    if(arr[0,i]==0):\n",
    "        arr[:,i] = 0\n",
    "\n",
    "if(firstRow):\n",
    "    arr[0] = 0\n",
    "if(firstCol):\n",
    "    arr[:,0] = 0\n",
    "\n",
    "print(arr)"
   ]
  },
  {
   "cell_type": "markdown",
   "metadata": {},
   "source": [
    "Problem-7"
   ]
  },
  {
   "cell_type": "code",
   "execution_count": null,
   "metadata": {
    "collapsed": true
   },
   "outputs": [],
   "source": [
    "# Given a set of non-overlapping intervals, insert a new interval into the intervals (merge if necessary).\n",
    "# You may assume that the intervals were initially sorted according to their start times.\n",
    "\n",
    "# Definition for an interval.\n",
    "# class Interval:\n",
    "#     def __init__(self, s=0, e=0):\n",
    "#         self.start = s\n",
    "#         self.end = e\n",
    "\n",
    " def insert(intervals, new_interval):\n",
    "        l = new_interval.start\n",
    "        r = new_interval.end\n",
    "      \n",
    "        if(len(intervals)==0):\n",
    "            return [Interval(l,r)]\n",
    "        \n",
    "        intervals_b = []\n",
    "        intervals_a = []\n",
    "        \n",
    "        for i in range(len(intervals)):\n",
    "            s = intervals[i].start\n",
    "            e = intervals[i].end\n",
    "            # check is our interval is before this interval\n",
    "            # case 1:    \n",
    "            if(s<l and e>r):\n",
    "                return intervals\n",
    "            # case 2:\n",
    "            if(e<l):\n",
    "                intervals_b.append(intervals[i])\n",
    "            # case 3:\n",
    "            if(r<s):\n",
    "                intervals_a = intervals[i:]\n",
    "                break\n",
    "            # case 4:\n",
    "            if(l<s and r>s and r<e):\n",
    "                r = e\n",
    "            # case 5:\n",
    "            if(l>s and l<e and r>e):\n",
    "                l = s\n",
    "        \n",
    "        return intervals_b + [Interval(l,r)] + intervals_a\n"
   ]
  },
  {
   "cell_type": "markdown",
   "metadata": {},
   "source": [
    "Problem-8 : This question is just pure beautiful"
   ]
  },
  {
   "cell_type": "code",
   "execution_count": 5,
   "metadata": {},
   "outputs": [
    {
     "name": "stdout",
     "output_type": "stream",
     "text": [
      "3 2\n",
      "1 2 3\n",
      "1\n"
     ]
    }
   ],
   "source": [
    "# given an array of numbers and a number k, count the number of pairs who absolute difference is atleast k\n",
    "n,k = map(int,raw_input().split())\n",
    "arr = map(int,raw_input().split())\n",
    "arr = sorted(arr)\n",
    "count = 0\n",
    "count_so_far = 0\n",
    "ptr2 = 0\n",
    "for ptr1 in range(1,len(arr)):\n",
    "    while(ptr2<ptr1 and arr[ptr1]-arr[ptr2]>=k):\n",
    "        ptr2+=1\n",
    "        count_so_far+=1\n",
    "    count+=count_so_far\n",
    "print(count)"
   ]
  },
  {
   "cell_type": "code",
   "execution_count": 115,
   "metadata": {},
   "outputs": [
    {
     "name": "stdout",
     "output_type": "stream",
     "text": [
      "2 2 3 2\n",
      "2 5\n",
      "6 1\n",
      "4\n"
     ]
    }
   ],
   "source": [
    "def init_matrix():\n",
    "    n,m,A,B = map(int,raw_input().split())\n",
    "    \n",
    "    land = np.zeros((n,m))\n",
    "    for i in range(n):\n",
    "        land[i] = map(int,raw_input().split())\n",
    "    \n",
    "    return land,n,m,A,B\n",
    "\n",
    "land,n,m,A,B = init_matrix()\n",
    "count = 0\n",
    "\n",
    "for l in range(1,n+1):\n",
    "    for b in range(1,m+1):\n",
    "        for i in range(0,n-l+1):\n",
    "            for j in range(0,m-b+1):\n",
    "                if(np.sum(land[i:i+l,j:j+b])%A == B):\n",
    "                    count+=1\n",
    "\n",
    "print(count)\n",
    "                "
   ]
  },
  {
   "cell_type": "markdown",
   "metadata": {},
   "source": [
    "Problem-9 - cool question"
   ]
  },
  {
   "cell_type": "code",
   "execution_count": null,
   "metadata": {
    "collapsed": true
   },
   "outputs": [],
   "source": [
    "# Given three sorted arrays A, B and Cof not necessarily same sizes.\n",
    "\n",
    "def minimizeMax(A,B,C,p,q,r):\n",
    "    i = 0\n",
    "    j = 0\n",
    "    k = 0\n",
    "    diff_so_far = 1000000\n",
    "    while(i<p and j<q and k<r):\n",
    "        minimum = min(A[i],min(B[j],C[k]))\n",
    "        maximum = max(A[i],max(B[j],C[k]))\n",
    "        \n",
    "        if(maximum-minimum<diff_so_far):\n",
    "            diff_so_far = maximum-minimum\n",
    "        \n",
    "        if(diff_so_far==0):\n",
    "            break\n",
    "        \n",
    "        if(A[i]==minimum):\n",
    "            i+=1\n",
    "        elif(B[j]==minimum):\n",
    "            j+=1\n",
    "        elif(C[k]==minimum):\n",
    "            k+=1\n",
    "    return diff_so_far\n",
    "    \n",
    "p,q,r = map(int,raw_input().split())\n",
    "A = [0]*p\n",
    "B = [0]*q\n",
    "C = [0]*r\n",
    "A = map(int,raw_input().split())\n",
    "B = map(int,raw_input().split())\n",
    "C = map(int,raw_input().split())\n",
    "\n",
    "minDiff = minimizeMax(A,B,C,p,q,r)\n",
    "print(minDiff)"
   ]
  },
  {
   "cell_type": "markdown",
   "metadata": {
    "collapsed": true
   },
   "source": [
    "Problem-10"
   ]
  },
  {
   "cell_type": "code",
   "execution_count": 7,
   "metadata": {},
   "outputs": [
    {
     "name": "stdout",
     "output_type": "stream",
     "text": [
      "\n",
      "[]\n"
     ]
    }
   ],
   "source": [
    "# array reduction \n",
    "array = map(int,raw_input().split())\n",
    "temp = array\n",
    "temp = sorted(temp)\n",
    "hash_table = {}\n",
    "for i in range(len(array)):\n",
    "    hash_table[array[i]] = i\n",
    "\n",
    "for i in range(len(temp)):\n",
    "    idx = hash_table[temp[i]]\n",
    "    array[idx] = i\n",
    "\n",
    "print(array)"
   ]
  },
  {
   "cell_type": "code",
   "execution_count": null,
   "metadata": {
    "collapsed": true
   },
   "outputs": [],
   "source": []
  },
  {
   "cell_type": "code",
   "execution_count": null,
   "metadata": {
    "collapsed": true
   },
   "outputs": [],
   "source": []
  }
 ],
 "metadata": {
  "kernelspec": {
   "display_name": "Python 2",
   "language": "python",
   "name": "python2"
  },
  "language_info": {
   "codemirror_mode": {
    "name": "ipython",
    "version": 2
   },
   "file_extension": ".py",
   "mimetype": "text/x-python",
   "name": "python",
   "nbconvert_exporter": "python",
   "pygments_lexer": "ipython2",
   "version": "2.7.13"
  }
 },
 "nbformat": 4,
 "nbformat_minor": 2
}
