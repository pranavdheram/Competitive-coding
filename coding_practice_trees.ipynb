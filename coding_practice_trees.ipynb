{
 "cells": [
  {
   "cell_type": "markdown",
   "metadata": {},
   "source": [
    "                                #### Coding Practice - Trees"
   ]
  },
  {
   "cell_type": "code",
   "execution_count": 1,
   "metadata": {
    "collapsed": true
   },
   "outputs": [],
   "source": [
    "import numpy as np\n",
    "import math"
   ]
  },
  {
   "cell_type": "code",
   "execution_count": 2,
   "metadata": {
    "collapsed": true
   },
   "outputs": [],
   "source": [
    "# Definition for a  binary tree node\n",
    "class TreeNode:\n",
    "    def __init__(self, x):\n",
    "        self.val = x\n",
    "        self.left = None\n",
    "        self.right = None"
   ]
  },
  {
   "cell_type": "code",
   "execution_count": 24,
   "metadata": {
    "collapsed": true
   },
   "outputs": [],
   "source": [
    "def constructTree():\n",
    "    A = TreeNode(1)\n",
    "    B = TreeNode(2)\n",
    "    C = TreeNode(3)\n",
    "    D = TreeNode(4)\n",
    "    E = TreeNode(5)\n",
    "    A.left = B\n",
    "    A.right = E\n",
    "    B.left = C\n",
    "    B.right = D\n",
    "    \n",
    "    return A"
   ]
  },
  {
   "cell_type": "markdown",
   "metadata": {},
   "source": [
    "Problem-1"
   ]
  },
  {
   "cell_type": "code",
   "execution_count": 4,
   "metadata": {},
   "outputs": [
    {
     "name": "stdout",
     "output_type": "stream",
     "text": [
      "[1, 3, 2]\n"
     ]
    }
   ],
   "source": [
    "# inorder traversal\n",
    "def inorder(A,ans):\n",
    "    if(A):\n",
    "        inorder(A.left,ans)\n",
    "        ans.append(A.val)\n",
    "        inorder(A.right,ans)\n",
    "\n",
    "ans = []\n",
    "A = TreeNode(2)\n",
    "B = TreeNode(1)\n",
    "C = TreeNode(3)\n",
    "A.left = B\n",
    "B.right = C\n",
    "\n",
    "inorder(A,ans)\n",
    "print(ans)"
   ]
  },
  {
   "cell_type": "markdown",
   "metadata": {},
   "source": [
    "Problem-2"
   ]
  },
  {
   "cell_type": "code",
   "execution_count": null,
   "metadata": {
    "collapsed": true
   },
   "outputs": [],
   "source": [
    "# preorder traversal\n",
    "def preorder(A,ans):\n",
    "    if(A):\n",
    "        ans.append(A.val)\n",
    "        preorder(A.left,ans)\n",
    "        preorder(A.right,ans)\n",
    "\n",
    "# ans = []\n",
    "# A = TreeNode(2)\n",
    "# B = TreeNode(1)\n",
    "# C = TreeNode(3)\n",
    "# A.left = B\n",
    "# B.right = C\n",
    "\n",
    "# inorder(A,ans)\n",
    "# print(ans)"
   ]
  },
  {
   "cell_type": "markdown",
   "metadata": {},
   "source": [
    "Problem-3"
   ]
  },
  {
   "cell_type": "code",
   "execution_count": null,
   "metadata": {
    "collapsed": true
   },
   "outputs": [],
   "source": [
    "# postorder traversal\n",
    "def postorder(A,ans):\n",
    "    if(A):\n",
    "        postorder(A.left,ans)\n",
    "        postorder(A.right,ans)\n",
    "        ans.append(A.val)\n",
    "        \n",
    "# ans = []\n",
    "# A = TreeNode(2)\n",
    "# B = TreeNode(1)\n",
    "# C = TreeNode(3)\n",
    "# A.left = B\n",
    "# B.right = C\n",
    "\n",
    "# inorder(A,ans)\n",
    "# print(ans)"
   ]
  },
  {
   "cell_type": "markdown",
   "metadata": {},
   "source": [
    "Problem-4"
   ]
  },
  {
   "cell_type": "code",
   "execution_count": 6,
   "metadata": {},
   "outputs": [
    {
     "name": "stdout",
     "output_type": "stream",
     "text": [
      "[[4], [2], [1, 5, 6], [3]]\n"
     ]
    }
   ],
   "source": [
    "# vertical order traversal\n",
    "def vo_traverse(self,A,v,i):\n",
    "        if(A):\n",
    "            v[i].append(A.val)\n",
    "            self.vo_traverse(A.left,v,i-1)\n",
    "            self.vo_traverse(A.right,v,i+1)\n",
    "    \n",
    "    def minMax(self,A,min,max,i):\n",
    "        if(not(A)):\n",
    "            return\n",
    "        # Update min and max\n",
    "        if i < min[0] :\n",
    "            min[0] = i\n",
    "        elif i > max[0]:\n",
    "            max[0] = i\n",
    "     \n",
    "        # Recur for left and right subtrees\n",
    "        self.minMax(A.left, min, max, i-1)\n",
    "        self.minMax(A.right, min, max, i+1)\n",
    "    \n",
    "    def addLines(self,A,temp,line,i):\n",
    "        if(not(A)):\n",
    "            return\n",
    "        if(i==line):\n",
    "            temp.append(A.val)\n",
    "        self.addLines(A.left,temp,line,i-1)\n",
    "        self.addLines(A.right,temp,line,i+1)\n",
    "        \n",
    "    def verticalOrderTraversal(self, A):\n",
    "        # left = self.left_span(A)\n",
    "        # right = self.right_span(A)\n",
    "        # total_span = left+right+1\n",
    "        minimum = [0]\n",
    "        maximum = [0]\n",
    "        self.minMax(A,minimum,maximum,0)\n",
    "        total_span = maximum[0] + abs(minimum[0]) + 1\n",
    "        \n",
    "        v = []\n",
    "        for line in range(minimum[0],maximum[0]+1):\n",
    "            temp = []\n",
    "            self.addLines(A,temp,line,0)\n",
    "            v.append(temp)\n",
    "        \n",
    "        return v"
   ]
  },
  {
   "cell_type": "markdown",
   "metadata": {},
   "source": [
    "Problem-5"
   ]
  },
  {
   "cell_type": "code",
   "execution_count": 15,
   "metadata": {},
   "outputs": [
    {
     "name": "stdout",
     "output_type": "stream",
     "text": [
      "3\n"
     ]
    }
   ],
   "source": [
    "# find the height of a tree\n",
    "def findHeight(A):\n",
    "    if(not(A)):\n",
    "        return 0\n",
    "    lh = findHeight(A.left)\n",
    "    rh = findHeight(A.right)\n",
    "    return (1+max(lh,rh))\n",
    "\n",
    "\n",
    "A = constructTree()\n",
    "print(findHeight(A))"
   ]
  },
  {
   "cell_type": "markdown",
   "metadata": {},
   "source": [
    "Problem-6"
   ]
  },
  {
   "cell_type": "code",
   "execution_count": null,
   "metadata": {
    "collapsed": true
   },
   "outputs": [],
   "source": [
    "# check if tree is balanced\n",
    "def isBalanced():\n",
    "    "
   ]
  },
  {
   "cell_type": "markdown",
   "metadata": {},
   "source": [
    "Problem-7"
   ]
  },
  {
   "cell_type": "code",
   "execution_count": 36,
   "metadata": {},
   "outputs": [
    {
     "name": "stdout",
     "output_type": "stream",
     "text": [
      "1\n"
     ]
    }
   ],
   "source": [
    "# find the lowest common ancestor of 2 nodes\n",
    "def findLCA(A,x,y):\n",
    "    if(A==None):\n",
    "        return None\n",
    "    if(A.val==x or A.val==y):\n",
    "        return A.val\n",
    "    left = findLCA(A.left,x,y)\n",
    "    right = findLCA(A.right,x,y)\n",
    "    if(left and right):\n",
    "        return A.val\n",
    "    if(left or right):\n",
    "        if(left):\n",
    "            return left\n",
    "        if(right):\n",
    "            return right\n",
    "    return None\n",
    "\n",
    "A = constructTree()\n",
    "print(findLCA(A,3,5))"
   ]
  },
  {
   "cell_type": "markdown",
   "metadata": {},
   "source": [
    "Problem-8"
   ]
  },
  {
   "cell_type": "code",
   "execution_count": 45,
   "metadata": {
    "scrolled": true
   },
   "outputs": [
    {
     "name": "stdout",
     "output_type": "stream",
     "text": [
      "[1]\n",
      "[1, 2]\n",
      "[1, 2, 3]\n",
      "[1, 2, 3]\n",
      "[1, 2, 3]\n",
      "[1, 2]\n",
      "[1, 2, 3]\n",
      "[1, 2, 3, 4]\n",
      "[1, 2, 3, 4]\n",
      "[1, 2, 3, 4]\n",
      "[1, 2, 3, 4, 5]\n",
      "[1, 2, 3, 4, 5]\n",
      "[1, 2, 3, 4, 5]\n",
      "[1, 2, 3, 4]\n",
      "[1, 2, 3, 4, 5]\n",
      "[1, 2, 3, 4, 5]\n"
     ]
    }
   ],
   "source": [
    "# find path from root to a given node\n",
    "def findPath(A,x,path):\n",
    "    if(not(A)):\n",
    "        return None\n",
    "    \n",
    "    path.append(A.val)\n",
    "    print(path)\n",
    "    if(A.val==x):\n",
    "        return True\n",
    "    \n",
    "    left = findPath(A.left,x,path)\n",
    "    print(path)\n",
    "    right = findPath(A.right,x,path)\n",
    "    print(path)\n",
    "    \n",
    "    if(left or right):\n",
    "        return True\n",
    "    \n",
    "    path = path[:-1]\n",
    "    print(path)\n",
    "    return False\n",
    "\n",
    "A = constructTree()\n",
    "path = []\n",
    "findPath(A,4,path)\n",
    "print(path)"
   ]
  },
  {
   "cell_type": "code",
   "execution_count": 8,
   "metadata": {},
   "outputs": [
    {
     "name": "stdout",
     "output_type": "stream",
     "text": [
      "1\n",
      "3 2\n",
      "1 -2 1\n",
      "2\n"
     ]
    }
   ],
   "source": [
    "def findMaxSum(arr):\n",
    "    temp_start = 0\n",
    "    temp_end = 0\n",
    "    final_start = 0\n",
    "    final_end = 0\n",
    "    max_so_far = arr[0]\n",
    "    current_max = arr[0]\n",
    "    n = len(arr)\n",
    "\n",
    "    for i in range(1,n):\n",
    "        if(current_max+arr[i]>arr[i]):\n",
    "            temp_end = i\n",
    "            current_max = current_max+arr[i]\n",
    "        else:\n",
    "            temp_start = i\n",
    "            temp_end = i\n",
    "            current_max = arr[i]\n",
    "\n",
    "        if(current_max>max_so_far):\n",
    "            max_so_far = current_max\n",
    "            final_start = temp_start\n",
    "            final_end = temp_end\n",
    "        \n",
    "    return final_start,final_end\n",
    "\n",
    "# def findMaxFromZero(array):\n",
    "#     s = 0\n",
    "#     maxSoFar = 0\n",
    "#     for i in range(len(array)):\n",
    "#         s+=array[i]\n",
    "#         if(s>maxSoFar):\n",
    "#             maxSoFar = s\n",
    "#             maxIdx = i\n",
    "    \n",
    "#     return maxSoFar,maxIdx\n",
    "\n",
    "t = input()\n",
    "for i in range(t):\n",
    "    n,k = map(int,raw_input().split())\n",
    "    array = map(int,raw_input().split())\n",
    "    arraySum = sum(array)\n",
    "    \n",
    "    if(k==1):\n",
    "        # kadane's algorithm\n",
    "        left,right = findMaxSum(array)\n",
    "        max_sum = sum(array[left:right+1])\n",
    "        print(max_sum)\n",
    "        continue\n",
    "    \n",
    "    if(k==2):\n",
    "        # kadane's algorithm\n",
    "        con_array = array+array\n",
    "        left,right = findMaxSum(con_array)\n",
    "        max_sum = sum(con_array[left:right+1])\n",
    "        print(max_sum)\n",
    "        continue\n",
    "    \n",
    "    con_array = array+array+array\n",
    "    left,right = findMaxSum(con_array)\n",
    "    max_sum = sum(con_array[left:right+1])\n",
    "    if(left<n and right>=(2*n)):\n",
    "        max_sum += (k-3)*arraySum\n",
    "    print(max_sum)\n",
    "#     # if k is greater than 1 we concatenate 2 arrays and see if there are any patterns \n",
    "#     arrayCon = array + array\n",
    "#     left,right =findMaxSum(arrayCon)\n",
    "    \n",
    "#     # the subarray is the array itself\n",
    "#     if(left==0 and right==2*n-1):\n",
    "#         max_sum = arraySum*k\n",
    "    \n",
    "#     # if the maximum subarray only comes from the first occurence of the array, no matter how many times we repeat\n",
    "#     # it, we will have the same max_sum\n",
    "#     elif(left==0 and right<n-1):\n",
    "#         max_sum = sum(array[left:right+1])\n",
    "    \n",
    "#     # if maximum subarray \n",
    "#     elif(left==0 and right>=n):\n",
    "#         max_sum = (k-1)*arraySum + sum(array[0:right-n+1])\n",
    "    \n",
    "#     # max_sum comes from a concatenation of both arrays\n",
    "#     elif(left<n and right>=n):\n",
    "#         #case 1: if the sum of the array is greater than 0, \n",
    "#         #we are better of adding the array until the last array where we can choose the longest subarray\n",
    "#         maxFromZero = findMaxFromZero(array)\n",
    "#         l,r = findMaxSum(array)\n",
    "#         if(l>0 and r==n-1):\n",
    "#             max_sum = sum(array[l:r+1])\n",
    "#             if(arraySum>0):\n",
    "#                 max_sum += (k-2)*arraySum\n",
    "#             max_sum+=maxFromZero\n",
    "\n",
    "#         elif(l>0 and r<n-1):\n",
    "#             sum_remaining = sum(array[r:])\n",
    "#             max_sum = sum(array[l:r+1])\n",
    "#             if(maxFromZero+sum_remaining > 0):\n",
    "#                 if(arraySum>0):\n",
    "#                     max_sum+=(k-2)*arraySum\n",
    "#                 max_sum+=maxFromZero"
   ]
  },
  {
   "cell_type": "code",
   "execution_count": 2,
   "metadata": {},
   "outputs": [
    {
     "data": {
      "text/plain": [
       "3"
      ]
     },
     "execution_count": 2,
     "metadata": {},
     "output_type": "execute_result"
    }
   ],
   "source": [
    "max_sum"
   ]
  },
  {
   "cell_type": "code",
   "execution_count": 3,
   "metadata": {},
   "outputs": [
    {
     "data": {
      "text/plain": [
       "[1, 2]"
      ]
     },
     "execution_count": 3,
     "metadata": {},
     "output_type": "execute_result"
    }
   ],
   "source": [
    "array"
   ]
  },
  {
   "cell_type": "code",
   "execution_count": 5,
   "metadata": {},
   "outputs": [
    {
     "data": {
      "text/plain": [
       "(0, 5)"
      ]
     },
     "execution_count": 5,
     "metadata": {},
     "output_type": "execute_result"
    }
   ],
   "source": [
    "findMaxSum(array+array+array)"
   ]
  },
  {
   "cell_type": "code",
   "execution_count": null,
   "metadata": {
    "collapsed": true
   },
   "outputs": [],
   "source": []
  }
 ],
 "metadata": {
  "kernelspec": {
   "display_name": "Python 2",
   "language": "python",
   "name": "python2"
  },
  "language_info": {
   "codemirror_mode": {
    "name": "ipython",
    "version": 2
   },
   "file_extension": ".py",
   "mimetype": "text/x-python",
   "name": "python",
   "nbconvert_exporter": "python",
   "pygments_lexer": "ipython2",
   "version": "2.7.13"
  }
 },
 "nbformat": 4,
 "nbformat_minor": 2
}
